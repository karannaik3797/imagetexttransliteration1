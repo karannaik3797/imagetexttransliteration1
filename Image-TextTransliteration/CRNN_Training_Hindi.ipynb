{
  "nbformat": 4,
  "nbformat_minor": 0,
  "metadata": {
    "colab": {
      "name": "CRNN_Training_Hindi.ipynb",
      "provenance": [],
      "collapsed_sections": []
    },
    "kernelspec": {
      "name": "python3",
      "display_name": "Python 3"
    },
    "accelerator": "GPU"
  },
  "cells": [
    {
      "cell_type": "markdown",
      "metadata": {
        "id": "Dalao8RCWjCK",
        "colab_type": "text"
      },
      "source": [
        "### Mount Drive"
      ]
    },
    {
      "cell_type": "code",
      "metadata": {
        "id": "eC_yZmc4wR_7",
        "colab_type": "code",
        "colab": {}
      },
      "source": [
        "from google.colab import drive\n",
        "drive.mount('/content/drive')"
      ],
      "execution_count": 0,
      "outputs": []
    },
    {
      "cell_type": "markdown",
      "metadata": {
        "id": "BvzdL_N1WvdJ",
        "colab_type": "text"
      },
      "source": [
        "### Import Libraries"
      ]
    },
    {
      "cell_type": "code",
      "metadata": {
        "id": "dOenWK8dwi7O",
        "colab_type": "code",
        "outputId": "d1c3afb5-7611-4341-e2ad-f8b0390e89bc",
        "colab": {
          "base_uri": "https://localhost:8080/",
          "height": 35
        }
      },
      "source": [
        "from tqdm import tqdm\n",
        "import glob\n",
        "import os \n",
        "import string\n",
        "from pathlib import Path\n",
        "import cv2\n",
        "import time\n",
        "import copy\n",
        "import sys\n",
        "import pandas as pd\n",
        "from sklearn.model_selection import train_test_split\n",
        "\n",
        "from PIL import Image\n",
        "import numpy as np\n",
        "import torch\n",
        "import torch.nn as nn\n",
        "import torch.nn.functional as F\n",
        "from torch.utils.data import DataLoader,Dataset,random_split\n",
        "from torchvision import transforms\n",
        "import torchvision\n",
        "from torchvision.models import resnet18\n",
        "import matplotlib.pyplot as plt\n",
        "\n",
        "import albumentations as A\n",
        "from albumentations import (CLAHE,HueSaturationValue, Normalize, Resize, Compose, GaussNoise,RandomBrightness,RandomGamma,RandomContrast)\n",
        "from albumentations.pytorch import ToTensor\n",
        "torch.cuda.get_device_name(0)"
      ],
      "execution_count": 0,
      "outputs": [
        {
          "output_type": "execute_result",
          "data": {
            "text/plain": [
              "'Tesla P100-PCIE-16GB'"
            ]
          },
          "metadata": {
            "tags": []
          },
          "execution_count": 2
        }
      ]
    },
    {
      "cell_type": "code",
      "metadata": {
        "id": "K9uPRipZ0DoG",
        "colab_type": "code",
        "colab": {}
      },
      "source": [
        "import math\n",
        "from torch.nn import DataParallel"
      ],
      "execution_count": 0,
      "outputs": []
    },
    {
      "cell_type": "code",
      "metadata": {
        "id": "q4iixlKf_rUq",
        "colab_type": "code",
        "colab": {}
      },
      "source": [
        "%matplotlib inline\n",
        "plt.style.use('seaborn')"
      ],
      "execution_count": 0,
      "outputs": []
    },
    {
      "cell_type": "markdown",
      "metadata": {
        "id": "jHbJbAOuXAdm",
        "colab_type": "text"
      },
      "source": [
        "### Helper Functions"
      ]
    },
    {
      "cell_type": "code",
      "metadata": {
        "id": "md1NLSc88I59",
        "colab_type": "code",
        "colab": {}
      },
      "source": [
        "class strLabelConverter(object):\n",
        "    \"\"\"Convert between str and label.\n",
        "        Insert `blank` to the alphabet for CTC.\n",
        "    Args:\n",
        "        alphabet (str): set of the possible characters.\n",
        "        ignore_case (bool, default=True): whether or not to ignore all of the case.\n",
        "    \"\"\"\n",
        "\n",
        "    def __init__(self, alphabet: str, ignore_case: bool = True):\n",
        "        self._ignore_case = ignore_case\n",
        "        if self._ignore_case:\n",
        "            alphabet = alphabet.lower()\n",
        "        self.alphabet = alphabet + '-'  # for `-1` index\n",
        "\n",
        "        self.char2idx = {}\n",
        "        for i, char in enumerate(alphabet):\n",
        "            # NOTE: 0 is reserved for 'blank' required by wrap_ctc\n",
        "            self.char2idx[char] = i + 1\n",
        "        self.idx2char = {idx: char for char, idx in self.char2idx.items()}\n",
        "\n",
        "    def encode(self, text):\n",
        "        \"\"\"Support batch or single str.\n",
        "        Args:\n",
        "            text (str or list of str): texts to convert.\n",
        "        Returns:\n",
        "            torch.IntTensor [length_0 + length_1 + ... length_{n - 1}]: encoded texts.\n",
        "            torch.IntTensor [n]: length of each text.\n",
        "        \"\"\"\n",
        "        if isinstance(text, str):\n",
        "            text = [\n",
        "                self.char2idx[char.lower() if self._ignore_case else char]\n",
        "                for char in text\n",
        "            ]\n",
        "            length = [len(text)]\n",
        "        elif isinstance(text, collections.Iterable):\n",
        "            length = [len(s) for s in text]\n",
        "            text = ''.join(text)\n",
        "            text, _ = self.encode(text)\n",
        "        return (torch.IntTensor(text), torch.IntTensor(length))\n",
        "\n",
        "    def decode(self, t, length, raw=False):\n",
        "        \"\"\"Decode encoded texts back into strs.\n",
        "        Args:\n",
        "            torch.IntTensor [length_0 + length_1 + ... length_{n - 1}]: encoded texts.\n",
        "            torch.IntTensor [n]: length of each text.\n",
        "        Raises:\n",
        "            AssertionError: when the texts and its length does not match.\n",
        "        Returns:\n",
        "            text (str or list of str): texts to convert.\n",
        "        \"\"\"\n",
        "        if length.numel() == 1:\n",
        "            length = length[0]\n",
        "            assert t.numel() == length, \"text with length: {} does not match declared length: {}\".format(t.numel(), length)\n",
        "            if raw:\n",
        "                return ''.join([self.alphabet[i - 1] for i in t])\n",
        "            else:\n",
        "                char_list = []\n",
        "                for i in range(length):\n",
        "                    if t[i] != 0 and (not (i > 0 and t[i - 1] == t[i])):\n",
        "                        char_list.append(self.alphabet[t[i] - 1])\n",
        "                return ''.join(char_list)\n",
        "        else:\n",
        "            # batch mode\n",
        "            assert t.numel() == length.sum(), \"texts with length: {} does not match declared length: {}\".format(t.numel(), length.sum())\n",
        "            texts = []\n",
        "            index = 0\n",
        "            for i in range(length.numel()):\n",
        "                l = length[i]\n",
        "                texts.append(\n",
        "                    self.decode(\n",
        "                        t[index:index + l], torch.IntTensor([l]), raw=raw))\n",
        "                index += l\n",
        "        return texts"
      ],
      "execution_count": 0,
      "outputs": []
    },
    {
      "cell_type": "code",
      "metadata": {
        "id": "8CceWOysXD19",
        "colab_type": "code",
        "colab": {}
      },
      "source": [
        "def decode_prediction(logits: torch.Tensor,\n",
        "                      label_converter: strLabelConverter) -> str:\n",
        "    tokens = logits.softmax(2).argmax(2)\n",
        "    tokens = tokens.squeeze(1).numpy()\n",
        "\n",
        "    # convert tor stings tokens\n",
        "    tokens = ''.join([label_converter.idx2char[token]\n",
        "                      if token != 0 else '-'\n",
        "                      for token in tokens])\n",
        "    # print(\"tokens:\",tokens)\n",
        "    tokens = tokens.split('-')\n",
        "    # remove duplicates    \n",
        "\n",
        "    text = []\n",
        "    for batch_token in tokens:\n",
        "      for idx, char in enumerate(batch_token):\n",
        "        if len(batch_token) > 1 and idx == 0:\n",
        "          text.append(char)\n",
        "        elif idx > 1 and len(batch_token) > 1 and char != batch_token[idx - 1]:\n",
        "          text.append(char)\n",
        "        elif len(batch_token) == 1:\n",
        "          text.append(char)\n",
        "        else:\n",
        "          pass\n",
        "\n",
        "\n",
        "    text = ''.join(text)\n",
        "    return text"
      ],
      "execution_count": 0,
      "outputs": []
    },
    {
      "cell_type": "code",
      "metadata": {
        "id": "zafQ1rMLXDfh",
        "colab_type": "code",
        "colab": {}
      },
      "source": [
        "def print_prediction(model, dataset, device, label_converter):\n",
        "    idx = np.random.randint(len(dataset))\n",
        "\n",
        "    with torch.no_grad():\n",
        "        model.eval()\n",
        "        img, target_text = dataset[idx]\n",
        "        img = img.unsqueeze(0)\n",
        "        logits = model(img.to(device))\n",
        "        # print(\"Logits:\",logits.cpu()[0])\n",
        "\n",
        "    pred_text = decode_prediction(logits.cpu(), label_converter)\n",
        "\n",
        "    path = dataset.file_path\n",
        "    img = np.asarray(Image.open(path).convert('L'))\n",
        "    print(\"Truth:\", target_text)\n",
        "    print(\"Prediction:\", pred_text)\n",
        "    print()\n",
        "    plt.imshow(img)\n",
        "    plt.axis('off')"
      ],
      "execution_count": 0,
      "outputs": []
    },
    {
      "cell_type": "code",
      "metadata": {
        "id": "awnIYL-UAZF9",
        "colab_type": "code",
        "colab": {}
      },
      "source": [
        "def acc_calc(model, dataset, label_converter) -> float:\n",
        "    acc = 0\n",
        "    with torch.no_grad():\n",
        "        model.eval()\n",
        "        for idx in range(len(dataset)):\n",
        "            img, text = dataset[idx]\n",
        "            logits = model(img.unsqueeze(0).to(device))\n",
        "            pred_text = decode_prediction(logits.cpu(), label_converter)\n",
        "            \n",
        "            if pred_text == text:\n",
        "                acc += 1\n",
        "            \n",
        "    return acc / len(dataset) * 100"
      ],
      "execution_count": 0,
      "outputs": []
    },
    {
      "cell_type": "code",
      "metadata": {
        "id": "YTdRoDKr6SR5",
        "colab_type": "code",
        "outputId": "c7444199-571a-44f9-dabf-7ee620bebd06",
        "colab": {
          "base_uri": "https://localhost:8080/",
          "height": 35
        }
      },
      "source": [
        "hindi_alphabets = [chr(alpha) for alpha in range(2304, 2432)]\n",
        "\n",
        "hindi_alphabets_str = \"\".join(hindi_alphabets)\n",
        "label_converter = strLabelConverter(hindi_alphabets_str)"
      ],
      "execution_count": 0,
      "outputs": [
        {
          "output_type": "execute_result",
          "data": {
            "text/plain": [
              "'ऀँंःऄअआइईउऊऋऌऍऎएऐऑऒओऔकखगघङचछजझञटठडढणतथदधनऩपफबभमयरऱलळऴवशषसहऺऻ़ऽािीुूृॄॅॆेैॉॊोौ्ॎॏॐ॒॑॓॔ॕॖॗक़ख़ग़ज़ड़ढ़फ़य़ॠॡॢॣ।॥०१२३४५६७८९॰ॱॲॳॴॵॶॷॸॹॺॻॼॽॾॿ'"
            ]
          },
          "metadata": {
            "tags": []
          },
          "execution_count": 32
        }
      ]
    },
    {
      "cell_type": "markdown",
      "metadata": {
        "id": "AcnERP6nW332",
        "colab_type": "text"
      },
      "source": [
        "### Creating Dataset"
      ]
    },
    {
      "cell_type": "markdown",
      "metadata": {
        "id": "EL_MIBN0ummq",
        "colab_type": "text"
      },
      "source": [
        "##### Train Dataset"
      ]
    },
    {
      "cell_type": "code",
      "metadata": {
        "id": "2ntGRVnmukym",
        "colab_type": "code",
        "colab": {}
      },
      "source": [
        "file_paths = [os.path.join(dirpath,file_) for dirpath,dirnames,files in os.walk(\"./drive/My Drive/Synthetic Train Set - Detection & Recognition/CroppedImages\") for file_counter,file_ in enumerate(files) if not(os.stat(os.path.join(dirpath,file_)).st_size == 0) and file_[-3:]==\"jpg\" and file_counter < 1]"
      ],
      "execution_count": 0,
      "outputs": []
    },
    {
      "cell_type": "code",
      "metadata": {
        "id": "mWY5RT05vFyl",
        "colab_type": "code",
        "colab": {}
      },
      "source": [
        "df = pd.DataFrame(file_paths,columns=[\"File_Paths\"])"
      ],
      "execution_count": 0,
      "outputs": []
    },
    {
      "cell_type": "code",
      "metadata": {
        "id": "3OkRq4sMFEQu",
        "colab_type": "code",
        "colab": {}
      },
      "source": [
        "df[\"text\"] = df[\"File_Paths\"].apply(lambda x: x.split(\"/\")[-1].split(\"_\")[0])"
      ],
      "execution_count": 0,
      "outputs": []
    },
    {
      "cell_type": "code",
      "metadata": {
        "id": "eQeFnkgcL_h9",
        "colab_type": "code",
        "outputId": "9e3e997f-f613-4865-b64e-a7a804194579",
        "colab": {
          "base_uri": "https://localhost:8080/",
          "height": 206
        }
      },
      "source": [
        "df.head()"
      ],
      "execution_count": 0,
      "outputs": [
        {
          "output_type": "execute_result",
          "data": {
            "text/html": [
              "<div>\n",
              "<style scoped>\n",
              "    .dataframe tbody tr th:only-of-type {\n",
              "        vertical-align: middle;\n",
              "    }\n",
              "\n",
              "    .dataframe tbody tr th {\n",
              "        vertical-align: top;\n",
              "    }\n",
              "\n",
              "    .dataframe thead th {\n",
              "        text-align: right;\n",
              "    }\n",
              "</style>\n",
              "<table border=\"1\" class=\"dataframe\">\n",
              "  <thead>\n",
              "    <tr style=\"text-align: right;\">\n",
              "      <th></th>\n",
              "      <th>File_Paths</th>\n",
              "      <th>text</th>\n",
              "    </tr>\n",
              "  </thead>\n",
              "  <tbody>\n",
              "    <tr>\n",
              "      <th>0</th>\n",
              "      <td>./drive/My Drive/Synthetic Train Set - Detecti...</td>\n",
              "      <td>जब</td>\n",
              "    </tr>\n",
              "    <tr>\n",
              "      <th>1</th>\n",
              "      <td>./drive/My Drive/Synthetic Train Set - Detecti...</td>\n",
              "      <td>रही</td>\n",
              "    </tr>\n",
              "    <tr>\n",
              "      <th>2</th>\n",
              "      <td>./drive/My Drive/Synthetic Train Set - Detecti...</td>\n",
              "      <td>उस</td>\n",
              "    </tr>\n",
              "    <tr>\n",
              "      <th>3</th>\n",
              "      <td>./drive/My Drive/Synthetic Train Set - Detecti...</td>\n",
              "      <td>यह</td>\n",
              "    </tr>\n",
              "    <tr>\n",
              "      <th>4</th>\n",
              "      <td>./drive/My Drive/Synthetic Train Set - Detecti...</td>\n",
              "      <td>गई</td>\n",
              "    </tr>\n",
              "  </tbody>\n",
              "</table>\n",
              "</div>"
            ],
            "text/plain": [
              "                                          File_Paths text\n",
              "0  ./drive/My Drive/Synthetic Train Set - Detecti...   जब\n",
              "1  ./drive/My Drive/Synthetic Train Set - Detecti...  रही\n",
              "2  ./drive/My Drive/Synthetic Train Set - Detecti...   उस\n",
              "3  ./drive/My Drive/Synthetic Train Set - Detecti...   यह\n",
              "4  ./drive/My Drive/Synthetic Train Set - Detecti...   गई"
            ]
          },
          "metadata": {
            "tags": []
          },
          "execution_count": 11
        }
      ]
    },
    {
      "cell_type": "code",
      "metadata": {
        "id": "lCab7b0HMKQu",
        "colab_type": "code",
        "colab": {}
      },
      "source": [
        "train_df, val_df = train_test_split(df, test_size=0.1, random_state=0)"
      ],
      "execution_count": 0,
      "outputs": []
    },
    {
      "cell_type": "code",
      "metadata": {
        "id": "sbj5ITMYu1eP",
        "colab_type": "code",
        "outputId": "d62fc2be-0817-40d6-fe1c-f4f57492da9d",
        "colab": {
          "base_uri": "https://localhost:8080/",
          "height": 35
        }
      },
      "source": [
        "len(train_df),len(val_df)"
      ],
      "execution_count": 0,
      "outputs": [
        {
          "output_type": "execute_result",
          "data": {
            "text/plain": [
              "(10386, 1154)"
            ]
          },
          "metadata": {
            "tags": []
          },
          "execution_count": 19
        }
      ]
    },
    {
      "cell_type": "code",
      "metadata": {
        "id": "d3Ow7VJM0WIo",
        "colab_type": "code",
        "colab": {}
      },
      "source": [
        "class TextRecognitionDataset(Dataset):\n",
        "  def __init__(self,df,mean, std,phase=\"train\",train=True):\n",
        "     self.df = df\n",
        "     self.phase = phase\n",
        "     self.mean = mean\n",
        "     self.std = std\n",
        "     self.train = train\n",
        "     self.transform = get_transforms(phase, mean, std)\n",
        "     self.file_path = None\n",
        "     \n",
        "  def __len__(self):\n",
        "      return len(self.df)\n",
        "\n",
        "  def __getitem__(self,idx):\n",
        "    img_file_path = self.df.iloc[idx][\"File_Paths\"]\n",
        "    self.file_path = img_file_path\n",
        "    ground_truth_text = self.df.iloc[idx][\"text\"]\n",
        "    img_data = cv2.imread(img_file_path)\n",
        "    \n",
        "    if self.transform:\n",
        "      img_data = self.transform(image=img_data)[\"image\"]\n",
        "\n",
        "    if self.train:\n",
        "      return img_data,ground_truth_text\n",
        "\n",
        "    else:\n",
        "      return img_data,ground_truth_text\n",
        "\n",
        "\n",
        "  def pil_loader(self,path):\n",
        "    with open(path, 'rb') as f:\n",
        "      img = Image.open(f)\n",
        "      return img.convert('RGB')\n"
      ],
      "execution_count": 0,
      "outputs": []
    },
    {
      "cell_type": "code",
      "metadata": {
        "id": "9q6k_g2dmWRn",
        "colab_type": "code",
        "colab": {}
      },
      "source": [
        "def get_transforms(phase, mean, std):\n",
        "    list_transforms = []\n",
        "    list_transforms.extend(\n",
        "            [\n",
        "                Resize(32,100),\n",
        "            ]\n",
        "    )\n",
        "    \n",
        "    if phase == \"train\":\n",
        "        list_transforms.extend(\n",
        "            [\n",
        "                RandomBrightness(limit=1.2, p=0.5),\n",
        "                \n",
        "            ]\n",
        "        )\n",
        "    list_transforms.extend(\n",
        "        [\n",
        "            Normalize(mean=mean, std=std, p=1),\n",
        "            ToTensor(),\n",
        "        ]\n",
        "    )\n",
        "    list_trfms = Compose(list_transforms)\n",
        "    return list_trfms"
      ],
      "execution_count": 0,
      "outputs": []
    },
    {
      "cell_type": "code",
      "metadata": {
        "id": "xJ4tTt3qbHGa",
        "colab_type": "code",
        "colab": {}
      },
      "source": [
        "def get_mean_and_std(dataset):\n",
        "    '''Compute the mean and std value of dataset.'''\n",
        "    dataloader = torch.utils.data.DataLoader(dataset, batch_size=1, shuffle=True)\n",
        "    mean = torch.zeros(3)\n",
        "    std = torch.zeros(3)\n",
        "    print('==> Computing mean and std..')\n",
        "    pbar = tqdm(total=len(dataset))\n",
        "    \n",
        "    for num,(inputs, targets) in enumerate(dataloader):\n",
        "        for i in range(3):\n",
        "            mean[i] += inputs[:,i,:,:].mean()\n",
        "            std[i] += inputs[:,i,:,:].std()\n",
        "        del inputs,targets\n",
        "        pbar.update(1)\n",
        "        torch.cuda.empty_cache()\n",
        "    \n",
        "    pbar.close()\n",
        "    mean.div_(len(dataset))\n",
        "    std.div_(len(dataset))\n",
        "    return mean, std"
      ],
      "execution_count": 0,
      "outputs": []
    },
    {
      "cell_type": "code",
      "metadata": {
        "id": "_15jFYKc-r2L",
        "colab_type": "code",
        "colab": {}
      },
      "source": [
        "train_data = TextRecognitionDataset(train_df,mean=(0.3821, 0.3934, 0.4027), std=(0.1830, 0.1789, 0.1691), phase=\"train\",train=True)"
      ],
      "execution_count": 0,
      "outputs": []
    },
    {
      "cell_type": "code",
      "metadata": {
        "id": "-DkMSQFP_JpF",
        "colab_type": "code",
        "colab": {}
      },
      "source": [
        "val_data = TextRecognitionDataset(val_df,mean=(0.3821, 0.3934, 0.4027), std=(0.1830, 0.1789, 0.1691), phase=\"val\",train=False)"
      ],
      "execution_count": 0,
      "outputs": []
    },
    {
      "cell_type": "code",
      "metadata": {
        "id": "tonelzeZ_q1p",
        "colab_type": "code",
        "outputId": "576fca1b-0e10-4d96-8e39-780f6fe96f05",
        "colab": {
          "base_uri": "https://localhost:8080/",
          "height": 35
        }
      },
      "source": [
        "device = torch.device('cuda:0' if torch.cuda.is_available() else 'cpu')\n",
        "torch.manual_seed(0)"
      ],
      "execution_count": 0,
      "outputs": [
        {
          "output_type": "execute_result",
          "data": {
            "text/plain": [
              "<torch._C.Generator at 0x7fce2181e770>"
            ]
          },
          "metadata": {
            "tags": []
          },
          "execution_count": 26
        }
      ]
    },
    {
      "cell_type": "markdown",
      "metadata": {
        "id": "iVEnO_jEXX-7",
        "colab_type": "text"
      },
      "source": [
        "### Create Dataloader"
      ]
    },
    {
      "cell_type": "code",
      "metadata": {
        "id": "5nKEESCTXnH5",
        "colab_type": "code",
        "colab": {}
      },
      "source": [
        "dataloader = {}\n",
        "\n",
        "dataloader[\"train\"] = torch.utils.data.DataLoader(train_data, batch_size=128, shuffle=True)\n",
        "dataloader[\"val\"] = torch.utils.data.DataLoader(val_data, batch_size=128, shuffle=True)"
      ],
      "execution_count": 0,
      "outputs": []
    },
    {
      "cell_type": "markdown",
      "metadata": {
        "id": "7aKP9KToML9m",
        "colab_type": "text"
      },
      "source": [
        "### Visualizing Data"
      ]
    },
    {
      "cell_type": "code",
      "metadata": {
        "id": "ragc2zw3McDw",
        "colab_type": "code",
        "colab": {}
      },
      "source": [
        "def imshow(img,titles):\n",
        "  npimg = (img.numpy() * np.array([[[0.1830]], [[0.1789]], [[0.1691]]])) + np.array([[[0.3821]], [[0.3934]], [[0.4027]]])\n",
        "  plt.figure(figsize=(6,3))\n",
        "  plt.axis(\"off\")\n",
        "  img = np.transpose(img,(1,2,0))\n",
        "  plt.imshow(img)\n",
        "  plt.show()  "
      ],
      "execution_count": 0,
      "outputs": []
    },
    {
      "cell_type": "code",
      "metadata": {
        "id": "j-xHGUXqK3vL",
        "colab_type": "code",
        "colab": {}
      },
      "source": [
        "def show_images(dataloader):\n",
        "  imgs, texts = iter(dataloader).next()\n",
        "  print(texts)\n",
        "  img = torchvision.utils.make_grid(imgs)\n",
        "  imshow(img,texts)"
      ],
      "execution_count": 0,
      "outputs": []
    },
    {
      "cell_type": "code",
      "metadata": {
        "id": "OTt6YUgazHiw",
        "colab_type": "code",
        "colab": {}
      },
      "source": [
        "disp_loader = torch.utils.data.DataLoader(train_data, batch_size=4, shuffle=True)"
      ],
      "execution_count": 0,
      "outputs": []
    },
    {
      "cell_type": "code",
      "metadata": {
        "id": "SGokd-0UNOYE",
        "colab_type": "code",
        "outputId": "2ebd14fd-3005-4842-bfa3-f003ddd4022e",
        "colab": {
          "base_uri": "https://localhost:8080/",
          "height": 95
        }
      },
      "source": [
        "show_images(disp_loader)"
      ],
      "execution_count": 0,
      "outputs": [
        {
          "output_type": "stream",
          "text": [
            "Clipping input data to the valid range for imshow with RGB data ([0..1] for floats or [0..255] for integers).\n"
          ],
          "name": "stderr"
        },
        {
          "output_type": "stream",
          "text": [
            "('ऊपर', 'पर', 'आते', 'साथ')\n"
          ],
          "name": "stdout"
        },
        {
          "output_type": "display_data",
          "data": {
            "image/png": "[encoded data removed]",
            "text/plain": [
              "<Figure size 432x216 with 1 Axes>"
            ]
          },
          "metadata": {
            "tags": []
          }
        }
      ]
    },
    {
      "cell_type": "code",
      "metadata": {
        "id": "lvVOW7eRDUGX",
        "colab_type": "code",
        "outputId": "17042f76-34fb-4eff-b315-d923721b7d5a",
        "colab": {
          "base_uri": "https://localhost:8080/",
          "height": 95
        }
      },
      "source": [
        "show_images(disp_loader)"
      ],
      "execution_count": 0,
      "outputs": [
        {
          "output_type": "stream",
          "text": [
            "Clipping input data to the valid range for imshow with RGB data ([0..1] for floats or [0..255] for integers).\n"
          ],
          "name": "stderr"
        },
        {
          "output_type": "stream",
          "text": [
            "('पर', 'बाहर', 'मत', 'जब')\n"
          ],
          "name": "stdout"
        },
        {
          "output_type": "display_data",
          "data": {
            "image/png": "[encoded data removed]",
            "text/plain": [
              "<Figure size 432x216 with 1 Axes>"
            ]
          },
          "metadata": {
            "tags": []
          }
        }
      ]
    },
    {
      "cell_type": "markdown",
      "metadata": {
        "id": "inuXv9Rwddej",
        "colab_type": "text"
      },
      "source": [
        "### CRNN Model"
      ]
    },
    {
      "cell_type": "code",
      "metadata": {
        "id": "OC_fg_jD6uoR",
        "colab_type": "code",
        "colab": {}
      },
      "source": [
        "import torch.nn as nn\n",
        "\n",
        "\n",
        "class BidirectionalLSTM(nn.Module):\n",
        "\n",
        "    def __init__(self, nIn, nHidden, nOut):\n",
        "        super(BidirectionalLSTM, self).__init__()\n",
        "\n",
        "        self.rnn = nn.LSTM(nIn, nHidden, bidirectional=True)\n",
        "        self.embedding = nn.Linear(nHidden * 2, nOut)\n",
        "\n",
        "    def forward(self, input):\n",
        "        recurrent, _ = self.rnn(input)\n",
        "        T, b, h = recurrent.size()\n",
        "        t_rec = recurrent.view(T * b, h)\n",
        "\n",
        "        output = self.embedding(t_rec)  # [T * b, nOut]\n",
        "        output = output.view(T, b, -1)\n",
        "\n",
        "        return output\n",
        "\n",
        "\n",
        "class CRNN(nn.Module):\n",
        "\n",
        "    def __init__(self, imgH, nc, nclass, nh, n_rnn=2, leakyRelu=False):\n",
        "        super(CRNN, self).__init__()\n",
        "        assert imgH % 16 == 0, 'imgH has to be a multiple of 16'\n",
        "\n",
        "        \n",
        "        ks = [3, 3, 3, 3, 3, 3, 2]\n",
        "        ps = [1, 1, 1, 1, 1, 1, 0]\n",
        "        ss = [1, 1, 1, 1, 1, 1, 1]\n",
        "        nm = [64, 128, 256, 256, 512, 512, 512]\n",
        "\n",
        "        cnn = nn.Sequential()\n",
        "\n",
        "        def convRelu(i, batchNormalization=False):\n",
        "            nIn = nc if i == 0 else nm[i - 1]\n",
        "            nOut = nm[i]\n",
        "            cnn.add_module('conv{0}'.format(i),\n",
        "                           nn.Conv2d(nIn, nOut, ks[i], ss[i], ps[i]))\n",
        "            if batchNormalization:\n",
        "                cnn.add_module('batchnorm{0}'.format(i), nn.BatchNorm2d(nOut))\n",
        "            if leakyRelu:\n",
        "                cnn.add_module('relu{0}'.format(i),\n",
        "                               nn.LeakyReLU(0.2, inplace=True))\n",
        "            else:\n",
        "                cnn.add_module('relu{0}'.format(i), nn.ReLU(True))\n",
        "\n",
        "        convRelu(0)\n",
        "        cnn.add_module('pooling{0}'.format(0), nn.MaxPool2d(2, 2))  # 64x16x64\n",
        "        convRelu(1)\n",
        "        cnn.add_module('pooling{0}'.format(1), nn.MaxPool2d(2, 2))  # 128x8x32\n",
        "        convRelu(2, True)\n",
        "        convRelu(3)\n",
        "        cnn.add_module('pooling{0}'.format(2),\n",
        "                       nn.MaxPool2d((2, 2), (2, 1), (0, 1)))  # 256x4x16\n",
        "        convRelu(4, True)\n",
        "        convRelu(5)\n",
        "        cnn.add_module('pooling{0}'.format(3),\n",
        "                       nn.MaxPool2d((2, 2), (2, 1), (0, 1)))  # 512x2x16\n",
        "        convRelu(6, True)  # 512x1x16\n",
        "\n",
        "        self.cnn = cnn\n",
        "        self.rnn = nn.Sequential(\n",
        "            BidirectionalLSTM(512, nh, nh),\n",
        "            BidirectionalLSTM(nh, nh, nclass))\n",
        "\n",
        "    def forward(self, input):\n",
        "        # conv features\n",
        "        conv = self.cnn(input)\n",
        "        b, c, h, w = conv.size()\n",
        "        assert h == 1, \"the height of conv must be 1\"\n",
        "        conv = conv.squeeze(2)\n",
        "        conv = conv.permute(2, 0, 1)  # [w, b, c]\n",
        "\n",
        "        # rnn features\n",
        "        output = self.rnn(conv)\n",
        "\n",
        "        return output\n"
      ],
      "execution_count": 0,
      "outputs": []
    },
    {
      "cell_type": "code",
      "metadata": {
        "id": "IV02Oxwz6ptn",
        "colab_type": "code",
        "colab": {}
      },
      "source": [
        "def init_weights(model):\n",
        "    for m in model.modules():\n",
        "        if isinstance(m, nn.Linear):\n",
        "            print(\"Linear layers initialized\")\n",
        "            xavier(m.weight)\n",
        "        elif isinstance(m, nn.Conv2d):\n",
        "            print(\"Linear layers initialized\")\n",
        "            xavier(m.weight)\n",
        "        elif isinstance(m, nn.BatchNorm2d):\n",
        "            print(\"BN layers initialized\")\n",
        "            init.constant_(m.weight, 1)\n",
        "            init.constant_(m.bias, 0)\n",
        "        elif isinstance(m, nn.BatchNorm1d):\n",
        "            print(\"BN layers initialized\")\n",
        "            init.constant_(m.weight, 1)\n",
        "            init.constant_(m.bias, 0)\n",
        "        else:\n",
        "            pass\n",
        "\n",
        "def xavier(parameters):\n",
        "    init.kaiming_normal_(parameters,nonlinearity='leaky_relu')"
      ],
      "execution_count": 0,
      "outputs": []
    },
    {
      "cell_type": "code",
      "metadata": {
        "id": "t7RcDXCw6xQh",
        "colab_type": "code",
        "outputId": "f5b30339-64c1-4b0d-abed-723391ecc8ea",
        "colab": {
          "base_uri": "https://localhost:8080/",
          "height": 35
        }
      },
      "source": [
        "vocab_size = len(hindi_alphabets_str) + 1 # extra character for blank symbol\n",
        "weight_decay = 1e-5\n",
        "clip_norm = 5\n",
        "print(vocab_size)"
      ],
      "execution_count": 0,
      "outputs": [
        {
          "output_type": "stream",
          "text": [
            "129\n"
          ],
          "name": "stdout"
        }
      ]
    },
    {
      "cell_type": "code",
      "metadata": {
        "id": "hdNkKu7p_WB7",
        "colab_type": "code",
        "colab": {}
      },
      "source": [
        "crnn = CRNN(32,3,129, 256,2,True)"
      ],
      "execution_count": 0,
      "outputs": []
    },
    {
      "cell_type": "code",
      "metadata": {
        "id": "itruPJmDXUbc",
        "colab_type": "code",
        "outputId": "209bfe3c-9269-4ad8-e2ab-3416af9161c8",
        "colab": {
          "base_uri": "https://localhost:8080/",
          "height": 632
        }
      },
      "source": [
        "crnn"
      ],
      "execution_count": 0,
      "outputs": [
        {
          "output_type": "execute_result",
          "data": {
            "text/plain": [
              "CRNN(\n",
              "  (cnn): Sequential(\n",
              "    (conv0): Conv2d(3, 64, kernel_size=(3, 3), stride=(1, 1), padding=(1, 1))\n",
              "    (relu0): LeakyReLU(negative_slope=0.2, inplace=True)\n",
              "    (pooling0): MaxPool2d(kernel_size=2, stride=2, padding=0, dilation=1, ceil_mode=False)\n",
              "    (conv1): Conv2d(64, 128, kernel_size=(3, 3), stride=(1, 1), padding=(1, 1))\n",
              "    (relu1): LeakyReLU(negative_slope=0.2, inplace=True)\n",
              "    (pooling1): MaxPool2d(kernel_size=2, stride=2, padding=0, dilation=1, ceil_mode=False)\n",
              "    (conv2): Conv2d(128, 256, kernel_size=(3, 3), stride=(1, 1), padding=(1, 1))\n",
              "    (batchnorm2): BatchNorm2d(256, eps=1e-05, momentum=0.1, affine=True, track_running_stats=True)\n",
              "    (relu2): LeakyReLU(negative_slope=0.2, inplace=True)\n",
              "    (conv3): Conv2d(256, 256, kernel_size=(3, 3), stride=(1, 1), padding=(1, 1))\n",
              "    (relu3): LeakyReLU(negative_slope=0.2, inplace=True)\n",
              "    (pooling2): MaxPool2d(kernel_size=(2, 2), stride=(2, 1), padding=(0, 1), dilation=1, ceil_mode=False)\n",
              "    (conv4): Conv2d(256, 512, kernel_size=(3, 3), stride=(1, 1), padding=(1, 1))\n",
              "    (batchnorm4): BatchNorm2d(512, eps=1e-05, momentum=0.1, affine=True, track_running_stats=True)\n",
              "    (relu4): LeakyReLU(negative_slope=0.2, inplace=True)\n",
              "    (conv5): Conv2d(512, 512, kernel_size=(3, 3), stride=(1, 1), padding=(1, 1))\n",
              "    (relu5): LeakyReLU(negative_slope=0.2, inplace=True)\n",
              "    (pooling3): MaxPool2d(kernel_size=(2, 2), stride=(2, 1), padding=(0, 1), dilation=1, ceil_mode=False)\n",
              "    (conv6): Conv2d(512, 512, kernel_size=(2, 2), stride=(1, 1))\n",
              "    (batchnorm6): BatchNorm2d(512, eps=1e-05, momentum=0.1, affine=True, track_running_stats=True)\n",
              "    (relu6): LeakyReLU(negative_slope=0.2, inplace=True)\n",
              "  )\n",
              "  (rnn): Sequential(\n",
              "    (0): BidirectionalLSTM(\n",
              "      (rnn): LSTM(512, 256, bidirectional=True)\n",
              "      (embedding): Linear(in_features=512, out_features=256, bias=True)\n",
              "    )\n",
              "    (1): BidirectionalLSTM(\n",
              "      (rnn): LSTM(256, 256, bidirectional=True)\n",
              "      (embedding): Linear(in_features=512, out_features=129, bias=True)\n",
              "    )\n",
              "  )\n",
              ")"
            ]
          },
          "metadata": {
            "tags": []
          },
          "execution_count": 53
        }
      ]
    },
    {
      "cell_type": "code",
      "metadata": {
        "id": "SLRIFaWywjUE",
        "colab_type": "code",
        "colab": {}
      },
      "source": [
        "parallel_net = DataParallel(crnn,device_ids=[0])"
      ],
      "execution_count": 0,
      "outputs": []
    },
    {
      "cell_type": "code",
      "metadata": {
        "id": "Y-1aNrSF_Zqu",
        "colab_type": "code",
        "colab": {}
      },
      "source": [
        "lr = 0.01\n",
        "optimizer = torch.optim.Adadelta(parallel_net.parameters())\n",
        "critertion = nn.CTCLoss(blank=0)"
      ],
      "execution_count": 0,
      "outputs": []
    },
    {
      "cell_type": "code",
      "metadata": {
        "id": "KSEbKnJqAIDI",
        "colab_type": "code",
        "colab": {}
      },
      "source": [
        "def validation(model, val_losses, label_converter):\n",
        "    with torch.no_grad():\n",
        "        model.eval()\n",
        "        for batch_img, batch_text in dataloader[\"val\"]:\n",
        "            logits = crnn(batch_img.to(device))\n",
        "            val_loss = calculate_loss(logits, batch_text, label_converter)\n",
        "            val_losses.append(val_loss.item())\n",
        "            del batch_img, batch_text\n",
        "            torch.cuda.empty_cache()\n",
        "    return val_losses,val_loss"
      ],
      "execution_count": 0,
      "outputs": []
    },
    {
      "cell_type": "code",
      "metadata": {
        "id": "aFzl-j59AJZ5",
        "colab_type": "code",
        "colab": {}
      },
      "source": [
        "def calculate_loss(logits, texts, label_converter):\n",
        "    # get infomation from prediction\n",
        "    device = logits.device\n",
        "    input_len, batch_size, vocab_size = logits.size()\n",
        "    # encode inputs\n",
        "    logits = logits.log_softmax(2)\n",
        "    encoded_texts, text_lens = label_converter.encode(texts)\n",
        "    logits_lens = torch.full(size=(batch_size,), fill_value=input_len, dtype=torch.int32)\n",
        "    # calculate ctc\n",
        "    loss = critertion(logits, encoded_texts, \n",
        "                      logits_lens.to(device), text_lens)\n",
        "    return loss"
      ],
      "execution_count": 0,
      "outputs": []
    },
    {
      "cell_type": "code",
      "metadata": {
        "id": "xmRZguztzYDb",
        "colab_type": "code",
        "colab": {}
      },
      "source": [
        "def train_model(model, dataloaders,optimizer, num_epochs=100):\n",
        "    since = time.time()\n",
        "\n",
        "    best_model_wts = copy.deepcopy(model.state_dict())\n",
        "    best_loss = 100\n",
        "\n",
        "    for epoch in range(num_epochs):\n",
        "        print('Epoch {}/{}'.format(epoch, num_epochs - 1))\n",
        "        print('-' * 10)\n",
        "\n",
        "        # Each epoch has a training and validation phase\n",
        "        for phase in ['train', 'val']:\n",
        "            if phase == 'train':\n",
        "                model.train()  # Set model to training mode\n",
        "            else:\n",
        "                model.eval()   # Set model to evaluate mode\n",
        "            \n",
        "            print(\"{} Mode ............\".format(phase.upper()))\n",
        "            running_loss = 0.0\n",
        "        \n",
        "            # Iterate over data.\n",
        "            for idx,(batch_imgs, batch_text) in enumerate(dataloaders[phase]):\n",
        "                batch_imgs = batch_imgs.to(device)\n",
        "                # zero the parameter gradients\n",
        "                optimizer.zero_grad()\n",
        "\n",
        "                # forward\n",
        "                # track history if only in train\n",
        "                with torch.set_grad_enabled(phase == 'train'):        \n",
        "                    logits = model(batch_imgs)\n",
        "                    train_loss = calculate_loss(logits, batch_text, label_converter)\n",
        "\n",
        "                    if np.isnan(train_loss.detach().cpu().numpy()):\n",
        "                      continue\n",
        "                    \n",
        "                  \n",
        "                    # backward + optimize only if in training phase\n",
        "                    if phase == 'train':\n",
        "                      print(\"Batch {}/{} Train Loss:{:.3f}\".format(idx+1,len(dataloaders[phase]),train_loss.item()))\n",
        "                      train_loss.backward()\n",
        "                      nn.utils.clip_grad_norm_(model.parameters(), clip_norm)\n",
        "                      optimizer.step()\n",
        "\n",
        "                    del batch_imgs, batch_text\n",
        "                    torch.cuda.empty_cache()\n",
        "\n",
        "                # statistics\n",
        "                running_loss += train_loss.item()\n",
        "\n",
        "\n",
        "            epoch_loss = running_loss / len(dataloaders[phase])\n",
        "        \n",
        "            \n",
        "\n",
        "            print('{} Epoch Loss: {:.4f}'.format(phase, epoch_loss))\n",
        "\n",
        "          \n",
        "           \n",
        "            # deep copy the model\n",
        "            if phase == 'val' and epoch_loss < best_loss:\n",
        "                best_loss = epoch_loss\n",
        "                best_model_wts = copy.deepcopy(model.state_dict())\n",
        "            \n",
        "        print()\n",
        "\n",
        "    time_elapsed = time.time() - since\n",
        "    print('Training complete in {:.0f}m {:.0f}s'.format(time_elapsed // 60, time_elapsed % 60))\n",
        "\n",
        "    # load best model weights\n",
        "    model.load_state_dict(best_model_wts)\n",
        "    return model"
      ],
      "execution_count": 0,
      "outputs": []
    },
    {
      "cell_type": "code",
      "metadata": {
        "id": "1j9aBKfsvDx5",
        "colab_type": "code",
        "colab": {}
      },
      "source": [
        "best_model = train_model(crnn,dataloader,optimizer,num_epochs=50)"
      ],
      "execution_count": 0,
      "outputs": []
    },
    {
      "cell_type": "markdown",
      "metadata": {
        "id": "j0tAew7evWL9",
        "colab_type": "text"
      },
      "source": [
        "### Test Data"
      ]
    },
    {
      "cell_type": "code",
      "metadata": {
        "id": "V321Cv2D8nrC",
        "colab_type": "code",
        "colab": {}
      },
      "source": [
        "def get_filepaths_and_labels(annotation_path):\n",
        "  with open(annotation_path,\"r\") as f:\n",
        "    paths = []\n",
        "    texts = []\n",
        "    dataset = {}\n",
        "    for line in f:\n",
        "      path = line.split(\"\\t\")[0]\n",
        "      text = line.split(\"\\t\")[1]\n",
        "      path = os.path.join(os.path.dirname(annotation_path),path)\n",
        "      dataset[path] = text\n",
        "      paths.append(path)\n",
        "      texts.append(text)\n",
        "  return dataset,paths,texts"
      ],
      "execution_count": 0,
      "outputs": []
    },
    {
      "cell_type": "code",
      "metadata": {
        "id": "EfJ9stpf-xSk",
        "colab_type": "code",
        "colab": {}
      },
      "source": [
        "dataset,paths,texts = get_filepaths_and_labels(\"./drive/My Drive/Cropped_Validation_Images/annotations.txt\")"
      ],
      "execution_count": 0,
      "outputs": []
    },
    {
      "cell_type": "code",
      "metadata": {
        "id": "pX9PLUd98Gde",
        "colab_type": "code",
        "colab": {}
      },
      "source": [
        "test_df = pd.DataFrame(data = list(dataset.items()),columns=[\"File_Paths\",\"text\"])"
      ],
      "execution_count": 0,
      "outputs": []
    },
    {
      "cell_type": "code",
      "metadata": {
        "id": "DOPew2GoAnGY",
        "colab_type": "code",
        "outputId": "5cf38098-7dc1-4903-8945-d902cddaaeb4",
        "colab": {
          "base_uri": "https://localhost:8080/",
          "height": 206
        }
      },
      "source": [
        "test_df.head()"
      ],
      "execution_count": 0,
      "outputs": [
        {
          "output_type": "execute_result",
          "data": {
            "text/html": [
              "<div>\n",
              "<style scoped>\n",
              "    .dataframe tbody tr th:only-of-type {\n",
              "        vertical-align: middle;\n",
              "    }\n",
              "\n",
              "    .dataframe tbody tr th {\n",
              "        vertical-align: top;\n",
              "    }\n",
              "\n",
              "    .dataframe thead th {\n",
              "        text-align: right;\n",
              "    }\n",
              "</style>\n",
              "<table border=\"1\" class=\"dataframe\">\n",
              "  <thead>\n",
              "    <tr style=\"text-align: right;\">\n",
              "      <th></th>\n",
              "      <th>File_Paths</th>\n",
              "      <th>text</th>\n",
              "    </tr>\n",
              "  </thead>\n",
              "  <tbody>\n",
              "    <tr>\n",
              "      <th>0</th>\n",
              "      <td>./drive/My Drive/Cropped_Validation_Images/cro...</td>\n",
              "      <td>जल</td>\n",
              "    </tr>\n",
              "    <tr>\n",
              "      <th>1</th>\n",
              "      <td>./drive/My Drive/Cropped_Validation_Images/cro...</td>\n",
              "      <td>शोध</td>\n",
              "    </tr>\n",
              "    <tr>\n",
              "      <th>2</th>\n",
              "      <td>./drive/My Drive/Cropped_Validation_Images/cro...</td>\n",
              "      <td>न</td>\n",
              "    </tr>\n",
              "    <tr>\n",
              "      <th>3</th>\n",
              "      <td>./drive/My Drive/Cropped_Validation_Images/cro...</td>\n",
              "      <td>संयंत्र</td>\n",
              "    </tr>\n",
              "    <tr>\n",
              "      <th>4</th>\n",
              "      <td>./drive/My Drive/Cropped_Validation_Images/cro...</td>\n",
              "      <td>बिना</td>\n",
              "    </tr>\n",
              "  </tbody>\n",
              "</table>\n",
              "</div>"
            ],
            "text/plain": [
              "                                          File_Paths     text\n",
              "0  ./drive/My Drive/Cropped_Validation_Images/cro...       जल\n",
              "1  ./drive/My Drive/Cropped_Validation_Images/cro...      शोध\n",
              "2  ./drive/My Drive/Cropped_Validation_Images/cro...        न\n",
              "3  ./drive/My Drive/Cropped_Validation_Images/cro...  संयंत्र\n",
              "4  ./drive/My Drive/Cropped_Validation_Images/cro...     बिना"
            ]
          },
          "metadata": {
            "tags": []
          },
          "execution_count": 70
        }
      ]
    },
    {
      "cell_type": "code",
      "metadata": {
        "id": "L-l_9_ygRQVU",
        "colab_type": "code",
        "colab": {}
      },
      "source": [
        "test_data = TextRecognitionDataset(test_df,mean=(0.3821, 0.3934, 0.4027), std=(0.1830, 0.1789, 0.1691), phase=\"test\",train=False)"
      ],
      "execution_count": 0,
      "outputs": []
    },
    {
      "cell_type": "code",
      "metadata": {
        "id": "eWerBWqBGdKl",
        "colab_type": "code",
        "outputId": "25d9c7dd-0513-4924-86a7-d5216d20daae",
        "colab": {
          "base_uri": "https://localhost:8080/",
          "height": 439
        }
      },
      "source": [
        "test_data[-1]"
      ],
      "execution_count": 0,
      "outputs": [
        {
          "output_type": "execute_result",
          "data": {
            "text/plain": [
              "(tensor([[[ 0.3764,  0.0978,  0.1621,  ...,  0.9764,  1.3407,  0.8050],\n",
              "          [ 0.1192,  0.1407,  0.2264,  ...,  1.4264,  0.4835,  0.6550],\n",
              "          [-0.2022, -0.1165, -0.2665,  ...,  1.0193,  1.0621,  0.6335],\n",
              "          ...,\n",
              "          [ 0.2692,  0.3764,  0.2050,  ...,  0.5264,  0.4621,  0.5478],\n",
              "          [ 0.2478,  0.5050,  0.6335,  ...,  0.3121,  0.3764,  0.5693],\n",
              "          [-0.5451, -0.2451,  0.0550,  ...,  0.1835,  0.2478,  0.3121]],\n",
              " \n",
              "         [[ 1.7686,  1.4836,  1.5494,  ...,  2.2728,  2.6454,  2.1193],\n",
              "          [ 1.5056,  1.5275,  1.6152,  ...,  2.6673,  1.7248,  1.9001],\n",
              "          [ 1.2206,  1.3083,  1.1329,  ...,  2.2509,  2.2947,  1.9001],\n",
              "          ...,\n",
              "          [ 1.5056,  1.5713,  1.4179,  ...,  1.6152,  1.6152,  1.7905],\n",
              "          [ 1.4836,  1.7467,  1.8782,  ...,  1.5494,  1.5494,  1.7467],\n",
              "          [ 0.7603,  1.0672,  1.3960,  ...,  1.4398,  1.4836,  1.5713]],\n",
              " \n",
              "         [[ 2.7669,  2.4655,  2.5350,  ...,  3.0220,  3.4858,  3.0684],\n",
              "          [ 2.4886,  2.5118,  2.6046,  ...,  3.4395,  2.5350,  2.8597],\n",
              "          [ 2.1640,  2.2567,  2.0944,  ...,  2.9988,  3.1612,  2.8597],\n",
              "          ...,\n",
              "          [ 2.6046,  2.6742,  2.4191,  ...,  2.6046,  2.5350,  2.6742],\n",
              "          [ 2.5582,  2.7669,  2.8597,  ...,  2.5118,  2.5350,  2.7437],\n",
              "          [ 1.9321,  2.2104,  2.5350,  ...,  2.3959,  2.4423,  2.5350]]]),\n",
              " 'कार्नर')"
            ]
          },
          "metadata": {
            "tags": []
          },
          "execution_count": 72
        }
      ]
    },
    {
      "cell_type": "code",
      "metadata": {
        "id": "SNrJEoYnBh1C",
        "colab_type": "code",
        "colab": {}
      },
      "source": [
        "test_loader = torch.utils.data.DataLoader(test_data, batch_size=128,shuffle=False)"
      ],
      "execution_count": 0,
      "outputs": []
    },
    {
      "cell_type": "markdown",
      "metadata": {
        "id": "SDPQ-on2IZ0L",
        "colab_type": "text"
      },
      "source": [
        "#### Loading Trained Model 1"
      ]
    },
    {
      "cell_type": "markdown",
      "metadata": {
        "id": "qcGLskh7fOqV",
        "colab_type": "text"
      },
      "source": [
        "###### Model Path : ./drive/My Drive/CRNN_model_weights/crnn_bigger_model_without_augments_adam_17.pth\n"
      ]
    },
    {
      "cell_type": "code",
      "metadata": {
        "id": "PLDw3vB4CMQ5",
        "colab_type": "code",
        "outputId": "eba4989f-5dbb-47ae-b282-9c65387f7bd1",
        "colab": {
          "base_uri": "https://localhost:8080/",
          "height": 35
        }
      },
      "source": [
        "PATH = \"./drive/My Drive/CRNN_model_weights/crnn_bigger_model_without_augments_adam_17.pth\"\n",
        "parallel_net.load_state_dict(torch.load(PATH))"
      ],
      "execution_count": 0,
      "outputs": [
        {
          "output_type": "execute_result",
          "data": {
            "text/plain": [
              "<All keys matched successfully>"
            ]
          },
          "metadata": {
            "tags": []
          },
          "execution_count": 55
        }
      ]
    },
    {
      "cell_type": "code",
      "metadata": {
        "id": "eVcFdwuRZRpd",
        "colab_type": "code",
        "outputId": "49840f35-7b62-48e8-f124-6f145a801ee7",
        "colab": {
          "base_uri": "https://localhost:8080/",
          "height": 248
        }
      },
      "source": [
        "print_prediction(parallel_net,test_data, device, label_converter)"
      ],
      "execution_count": 0,
      "outputs": [
        {
          "output_type": "stream",
          "text": [
            "Truth: संदीप\n",
            "Prediction: सदीप\n",
            "\n"
          ],
          "name": "stdout"
        },
        {
          "output_type": "display_data",
          "data": {
            "image/png": "[encoded data removed]",
            "text/plain": [
              "<Figure size 576x396 with 1 Axes>"
            ]
          },
          "metadata": {
            "tags": []
          }
        }
      ]
    },
    {
      "cell_type": "code",
      "metadata": {
        "id": "-Dew2XvNG7LP",
        "colab_type": "code",
        "outputId": "cafab48b-4245-4513-ccdc-5c339045b9de",
        "colab": {
          "base_uri": "https://localhost:8080/",
          "height": 383
        }
      },
      "source": [
        "print_prediction(parallel_net,test_data, device, label_converter)"
      ],
      "execution_count": 0,
      "outputs": [
        {
          "output_type": "stream",
          "text": [
            "Truth: फोड़े\n",
            "Prediction: फई\n",
            "\n"
          ],
          "name": "stdout"
        },
        {
          "output_type": "display_data",
          "data": {
            "image/png": "[encoded data removed]",
            "text/plain": [
              "<Figure size 576x396 with 1 Axes>"
            ]
          },
          "metadata": {
            "tags": []
          }
        }
      ]
    },
    {
      "cell_type": "markdown",
      "metadata": {
        "id": "sxidfuJrLW5o",
        "colab_type": "text"
      },
      "source": [
        "#### Loading Trained Model 2"
      ]
    },
    {
      "cell_type": "markdown",
      "metadata": {
        "id": "wKSadPOofHuD",
        "colab_type": "text"
      },
      "source": [
        "###### Model PATH: ./drive/My Drive/CRNN_model_weights/crnn_bigger_model_50.pth"
      ]
    },
    {
      "cell_type": "code",
      "metadata": {
        "id": "UaG0iNY0KmQ4",
        "colab_type": "code",
        "outputId": "4dbbd9a8-0126-47b2-cb84-6cc7ed2f11f6",
        "colab": {
          "base_uri": "https://localhost:8080/",
          "height": 35
        }
      },
      "source": [
        "PATH = \"./drive/My Drive/CRNN_model_weights/crnn_bigger_model_50.pth\"\n",
        "parallel_net.load_state_dict(torch.load(PATH))"
      ],
      "execution_count": 0,
      "outputs": [
        {
          "output_type": "execute_result",
          "data": {
            "text/plain": [
              "<All keys matched successfully>"
            ]
          },
          "metadata": {
            "tags": []
          },
          "execution_count": 87
        }
      ]
    },
    {
      "cell_type": "code",
      "metadata": {
        "id": "Fk2vPToQKucZ",
        "colab_type": "code",
        "outputId": "1bc2b304-8d52-4b46-8e6a-cc59cf93042e",
        "colab": {
          "base_uri": "https://localhost:8080/",
          "height": 383
        }
      },
      "source": [
        "print_prediction(parallel_net,test_data, device, label_converter)"
      ],
      "execution_count": 0,
      "outputs": [
        {
          "output_type": "stream",
          "text": [
            "Truth: बेचने\n",
            "Prediction: बचने\n",
            "\n"
          ],
          "name": "stdout"
        },
        {
          "output_type": "display_data",
          "data": {
            "image/png": "[encoded data removed]",
            "text/plain": [
              "<Figure size 576x396 with 1 Axes>"
            ]
          },
          "metadata": {
            "tags": []
          }
        }
      ]
    }
  ]
}